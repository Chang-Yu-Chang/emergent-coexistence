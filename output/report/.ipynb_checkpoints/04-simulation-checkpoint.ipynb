{
 "cells": [
  {
   "cell_type": "markdown",
   "metadata": {},
   "source": [
    "# Pairwise competitive network\n",
    "This notebook is for the simualtion of pairwise competitive networks in three types of communities: \n",
    "\n",
    "1. Self-assembled communities\n",
    "2. Communities composed of isolates from different self-assembled communities\n",
    "3. Randomly assembled communities\n",
    "\n",
    "The raw data of simulation are saved in the folder `output/report/data/`. The analysis that determines pairwise interactions, competitive heirarchy, and other network properties is conducted in the corresdponding Rmd `04B-pairwise_interaction.Rmd` and  `04C-network_analysis.Rmd`"
   ]
  },
  {
   "cell_type": "markdown",
   "metadata": {},
   "source": [
    "## Dependent packages\n",
    "\n",
    "This notebook heavily relies on the python package [community-simulator](https://github.com/Emergent-Behaviors-in-Biology/community-simulator), which is designed for simulating microbial community using resource-explicit model. Another package [community-selection](https://github.com/Chang-Yu-Chang/community-selection) is designed for simualting microbial community-level artificial selection. In `community-selection`, there are functions written to conduct microbial community simulation in small synthetic communities (e.g., pairs, trios, ... etc). "
   ]
  },
  {
   "cell_type": "code",
   "execution_count": 1,
   "metadata": {},
   "outputs": [
    {
     "name": "stdout",
     "output_type": "stream",
     "text": [
      "cvxpy not installed. Community.SteadyState() not available.\n"
     ]
    }
   ],
   "source": [
    "# Community simulator package\n",
    "from IPython.display import Image\n",
    "from community_simulator import *\n",
    "from community_simulator.usertools import *\n",
    "from community_simulator.visualization import *\n",
    "import seaborn as sns\n",
    "import matplotlib.pyplot as plt\n",
    "from matplotlib.backends import backend_pdf as bpdf\n",
    "import numpy as np\n",
    "import scipy as sp\n",
    "from random import sample, seed\n",
    "colors = sns.color_palette()\n",
    "%matplotlib inline\n",
    "\n",
    "# Community selection package\n",
    "from community_selection import *\n",
    "from community_selection.A_experiment_functions import *\n",
    "from community_selection.B_community_phenotypes import *\n",
    "from community_selection.C_selection_algorithms import *\n",
    "from community_selection.D_migration_algorithms import *"
   ]
  },
  {
   "cell_type": "markdown",
   "metadata": {},
   "source": [
    "# Simulation\n",
    "The simulation function in `community-selection` involves three steps of setup:\n",
    "1. Set up parameters \n",
    "2. Make inital state and put together consumer and resource initial states into a plate\n",
    "3. Simulate the community"
   ]
  },
  {
   "cell_type": "code",
   "execution_count": 2,
   "metadata": {},
   "outputs": [],
   "source": [
    "# Make dynanmics by default we will use the microbial consumer resource model\n",
    "def dNdt(N,R,params):\n",
    "    return MakeConsumerDynamics(assumptions)(N,R,params)\n",
    "def dRdt(N,R,params):\n",
    "    return MakeResourceDynamics(assumptions)(N,R,params)\n",
    "dynamics = [dNdt,dRdt]"
   ]
  },
  {
   "cell_type": "markdown",
   "metadata": {},
   "source": [
    "# Self-assembly\n",
    "\n",
    "1. Set up species pool\n",
    "2. Self-assemble 96 communties. Get the species list in self-assembled communties\n",
    "3. Pick 10 communities for pairwise competitive networks\n"
   ]
  },
  {
   "cell_type": "code",
   "execution_count": 3,
   "metadata": {},
   "outputs": [],
   "source": [
    "# Assumptions\n",
    "assumptions = a_default.copy() # Start with default parameters\n",
    "assumptions.update({'n_wells':24, 'c1' :0.01, 'muc':0.1, 'm':0, \"response\": \"type I\"})\n",
    "\n",
    "# Prepare experiment\n",
    "params, species_pool = prepare_experiment(assumptions)\n",
    "\n",
    "## Simulation parameters\n",
    "params_simulation = {\n",
    "    \"n_propagation\": 24, # Length of propagation, or hours within a growth cycle\n",
    "    \"n_transfer\": 10, # Number of transfer, or number of passage\n",
    "    \"dilution\": 1/1000, # Dilution factor for transfer\n",
    "    \"pool\": species_pool\n",
    "}\n",
    "\n",
    "# Choose the selection algorithms to run\n",
    "params_algorithm = {\"community_phenotype\": \"community_function_additive\", \"selection_algorithm\": \"no_selection\", \"migration_algorithm\": \"no_migration\"}"
   ]
  },
  {
   "cell_type": "markdown",
   "metadata": {},
   "source": [
    "Throughout this section, I will use the same set of parameters/assumptions shared by self-assembly and pairwise competition. The python dictonary `params_simulation` defines the experiment scanerios, for instance, propogation time is 24, and the number of transfer is 10."
   ]
  },
  {
   "cell_type": "code",
   "execution_count": 3,
   "metadata": {
    "scrolled": false
   },
   "outputs": [
    {
     "name": "stdout",
     "output_type": "stream",
     "text": [
      "Transfer 1 done.\n",
      "Transfer 2 done.\n",
      "Transfer 3 done.\n",
      "Transfer 4 done.\n",
      "Transfer 5 done.\n",
      "Transfer 6 done.\n",
      "Transfer 7 done.\n",
      "Transfer 8 done.\n",
      "Transfer 9 done.\n",
      "Transfer 10 done.\n"
     ]
    }
   ],
   "source": [
    "# Make initial state\n",
    "init_state = MakeInitialState(assumptions)\n",
    "\n",
    "# Make plate\n",
    "plate = Community(init_state, dynamics, params, scale = 10**6, parallel = True) \n",
    "\n",
    "# Simulation\n",
    "self_assembly_plate_df, self_assembly_function_df = simulate_community(plate, params_simulation, params_algorithm, file_name = \"data/self_assembly-community\", write_composition = True)"
   ]
  },
  {
   "cell_type": "markdown",
   "metadata": {},
   "source": [
    "# Monocultures\n",
    "I also make another plate for only monoculture, so that we know which species is capable of growing independently."
   ]
  },
  {
   "cell_type": "code",
   "execution_count": 4,
   "metadata": {},
   "outputs": [
    {
     "name": "stdout",
     "output_type": "stream",
     "text": [
      "Transfer 1 done.\n",
      "Transfer 2 done.\n",
      "Transfer 3 done.\n",
      "Transfer 4 done.\n",
      "Transfer 5 done.\n",
      "Transfer 6 done.\n",
      "Transfer 7 done.\n",
      "Transfer 8 done.\n",
      "Transfer 9 done.\n",
      "Transfer 10 done.\n"
     ]
    }
   ],
   "source": [
    "# Make initial state\n",
    "N0 = make_synthetic_mono(assumptions)\n",
    "init_state = make_initial_state(assumptions, N0)\n",
    "\n",
    "# Make plate\n",
    "plate = Community(init_state, dynamics, params, scale = 10**6, parallel = True) \n",
    "\n",
    "# Simulation\n",
    "mono_plate_df, mono_function_df = simulate_community(plate, params_simulation, params_algorithm, file_name = \"data/self_assembly-mono\", write_composition = True)\n"
   ]
  },
  {
   "cell_type": "markdown",
   "metadata": {},
   "source": [
    "# Pairwise competition\n",
    "For the pairs, I wrote an function `make_synthetic_community()` to generate all possible pairwise combinations and three initial frequencies (5%:95%, for example). The function is also able to generate trios and quadrates.\n",
    "Here I take the species memebers from W0 community. There are 15 of them, so the funtion will return a dataframe of 210 rows (number of species in the pool), and 15*14/2 * 3 = 315 columns. It will take a while to run."
   ]
  },
  {
   "cell_type": "code",
   "execution_count": 46,
   "metadata": {},
   "outputs": [
    {
     "name": "stdout",
     "output_type": "stream",
     "text": [
      "Transfer 1 done.\n",
      "Transfer 2 done.\n",
      "Transfer 3 done.\n",
      "Transfer 4 done.\n",
      "Transfer 5 done.\n",
      "Transfer 6 done.\n",
      "Transfer 7 done.\n",
      "Transfer 8 done.\n",
      "Transfer 9 done.\n",
      "Transfer 10 done.\n",
      "2\n",
      "Transfer 1 done.\n",
      "Transfer 2 done.\n",
      "Transfer 3 done.\n",
      "Transfer 4 done.\n",
      "Transfer 5 done.\n",
      "Transfer 6 done.\n",
      "Transfer 7 done.\n",
      "Transfer 8 done.\n",
      "Transfer 9 done.\n",
      "Transfer 10 done.\n",
      "3\n",
      "Transfer 1 done.\n",
      "Transfer 2 done.\n",
      "Transfer 3 done.\n",
      "Transfer 4 done.\n",
      "Transfer 5 done.\n",
      "Transfer 6 done.\n",
      "Transfer 7 done.\n",
      "Transfer 8 done.\n",
      "Transfer 9 done.\n",
      "Transfer 10 done.\n",
      "4\n"
     ]
    }
   ],
   "source": [
    "self_assembly_plate_df = pd.read_csv(\"data/self_assembly-community-T10.txt\")\n",
    "\n",
    "for i in range(2,5):\n",
    "    # Read species list in self-assembled communites\n",
    "    isolates_list = self_assembly_plate_df[\"ID\"][(self_assembly_plate_df.Well == (\"W\" + str(i))) & (self_assembly_plate_df.Type == \"consumer\")].tolist()\n",
    "    \n",
    "    # Make initial state\n",
    "    N0 = make_synthetic_community(species_list = isolates_list, assumptions = assumptions, number_species = 2, initial_frequency = [[0.95, 0.05], [0.05, 0.95]])\n",
    "    init_state = make_initial_state(assumptions, N0)\n",
    "\n",
    "    # Make plate\n",
    "    plate = Community(init_state, dynamics, params, scale = 10**6, parallel = True)\n",
    "\n",
    "    # Simulation\n",
    "    pair_plate_df, pair_function_df = simulate_community(plate, params_simulation, params_algorithm, file_name = \"data/self_assembly-pair-W\" + str(i), write_composition = True)\n",
    "    print(i)\n",
    "    "
   ]
  },
  {
   "cell_type": "markdown",
   "metadata": {},
   "source": [
    "# Communities composed of isolates from different self-assembled communities"
   ]
  },
  {
   "cell_type": "code",
   "execution_count": 35,
   "metadata": {},
   "outputs": [
    {
     "ename": "AttributeError",
     "evalue": "'list' object has no attribute 'concat'",
     "output_type": "error",
     "traceback": [
      "\u001b[0;31m---------------------------------------------------------------------------\u001b[0m",
      "\u001b[0;31mAttributeError\u001b[0m                            Traceback (most recent call last)",
      "\u001b[0;32m<ipython-input-35-316f72f12057>\u001b[0m in \u001b[0;36m<module>\u001b[0;34m\u001b[0m\n\u001b[1;32m     11\u001b[0m         \u001b[0mtemp_list\u001b[0m\u001b[0;34m.\u001b[0m\u001b[0mappend\u001b[0m\u001b[0;34m(\u001b[0m\u001b[0msample\u001b[0m\u001b[0;34m(\u001b[0m\u001b[0misolates_list\u001b[0m\u001b[0;34m,\u001b[0m \u001b[0;36m1\u001b[0m\u001b[0;34m)\u001b[0m\u001b[0;34m)\u001b[0m\u001b[0;34m\u001b[0m\u001b[0;34m\u001b[0m\u001b[0m\n\u001b[1;32m     12\u001b[0m \u001b[0;34m\u001b[0m\u001b[0m\n\u001b[0;32m---> 13\u001b[0;31m     \u001b[0mprint\u001b[0m\u001b[0;34m(\u001b[0m\u001b[0mtemp_list\u001b[0m\u001b[0;34m.\u001b[0m\u001b[0mconcat\u001b[0m\u001b[0;34m(\u001b[0m\u001b[0;34m)\u001b[0m\u001b[0;34m)\u001b[0m\u001b[0;34m\u001b[0m\u001b[0;34m\u001b[0m\u001b[0m\n\u001b[0m\u001b[1;32m     14\u001b[0m \u001b[0;31m#self_assembly_plate_df\u001b[0m\u001b[0;34m\u001b[0m\u001b[0;34m\u001b[0m\u001b[0;34m\u001b[0m\u001b[0m\n\u001b[1;32m     15\u001b[0m \u001b[0;31m#i = 1\u001b[0m\u001b[0;34m\u001b[0m\u001b[0;34m\u001b[0m\u001b[0;34m\u001b[0m\u001b[0m\n",
      "\u001b[0;31mAttributeError\u001b[0m: 'list' object has no attribute 'concat'"
     ]
    }
   ],
   "source": [
    "self_assembly_plate_df = pd.read_csv(\"data/self_assembly-community-T10.txt\")\n",
    "well_list = self_assembly_plate_df[\"Well\"].unique().tolist()\n",
    "\n",
    "#for i in range(5):\n",
    "\n",
    "for i in range(5):\n",
    "    well_list_temp = sample(well_list, 15)\n",
    "    temp_list = []\n",
    "    for j in range(len(well_list_temp)):\n",
    "        isolates_list = self_assembly_plate_df[\"ID\"][(self_assembly_plate_df.Well == (\"W\" + str(i))) & (self_assembly_plate_df.Type == \"consumer\")].tolist()\n",
    "        temp_list.append(sample(isolates_list, 1))\n",
    "    \n",
    "    print(temp_list)\n",
    "\n",
    "    \n",
    "\"\"\"\n",
    "generate a list species list for self-assembled communtiies\n",
    "\"\"\"    \n",
    "    \n",
    "#self_assembly_plate_df\n",
    "#i = 1\n",
    "#isolates_list = self_assembly_plate_df[\"ID\"][(self_assembly_plate_df.Well == (\"W\" + str(i))) & (self_assembly_plate_df.Type == \"consumer\")].tolist()\n",
    "\n",
    "#temp_list = self_assembly_plate_df[\"ID\"][(self_assembly_plate_df.Well == (\"W\" + str(i))) & (self_assembly_plate_df.Type == \"consumer\")].tolist()\n",
    "\n",
    "#seed(1)\n",
    "#sample(temp_list, 1)\n"
   ]
  },
  {
   "cell_type": "markdown",
   "metadata": {},
   "source": [
    "# Randomly assembled network"
   ]
  },
  {
   "cell_type": "code",
   "execution_count": 6,
   "metadata": {
    "scrolled": true
   },
   "outputs": [
    {
     "name": "stdout",
     "output_type": "stream",
     "text": [
      "Transfer 1 done\n",
      "Transfer 2 done\n",
      "Transfer 3 done\n",
      "Transfer 4 done\n",
      "Transfer 5 done\n",
      "Transfer 6 done\n",
      "Transfer 7 done\n",
      "Transfer 8 done\n",
      "Transfer 9 done\n",
      "Transfer 10 done\n",
      "1\n",
      "Transfer 1 done\n",
      "Transfer 2 done\n",
      "Transfer 3 done\n",
      "Transfer 4 done\n",
      "Transfer 5 done\n",
      "Transfer 6 done\n",
      "Transfer 7 done\n",
      "Transfer 8 done\n",
      "Transfer 9 done\n",
      "Transfer 10 done\n",
      "2\n",
      "Transfer 1 done\n",
      "Transfer 2 done\n",
      "Transfer 3 done\n",
      "Transfer 4 done\n",
      "Transfer 5 done\n",
      "Transfer 6 done\n",
      "Transfer 7 done\n",
      "Transfer 8 done\n",
      "Transfer 9 done\n",
      "Transfer 10 done\n",
      "3\n",
      "Transfer 1 done\n",
      "Transfer 2 done\n",
      "Transfer 3 done\n",
      "Transfer 4 done\n",
      "Transfer 5 done\n",
      "Transfer 6 done\n",
      "Transfer 7 done\n",
      "Transfer 8 done\n",
      "Transfer 9 done\n",
      "Transfer 10 done\n",
      "4\n"
     ]
    }
   ],
   "source": [
    "\n",
    "for i in range(1,5):\n",
    "    # Sample isolates to form random community\n",
    "    seed(i)\n",
    "    isolates_list = sample(range(len(species_pool)), 15)\n",
    "    isolates_list.sort() # Sort the species list\n",
    "    \n",
    "    # Make initial state\n",
    "    N0 = make_synthetic_community(species_list = isolates_list, assumptions = assumptions, number_species = 2, initial_frequency = [[0.95, 0.05], [0.05, 0.95]])\n",
    "    init_state = make_initial_state(assumptions, N0)\n",
    "\n",
    "    # Make plate\n",
    "    plate = Community(init_state, dynamics, params, scale = 10**6, parallel = True)\n",
    "\n",
    "    # Simulation\n",
    "    random_pair_plate_df, random_pair_function_df = simulate_community(plate, params_simulation, params_algorithm, file_name = \"data/random_assembly-pair-W\" + str(i), assembly_type = \"random-assembly\", write_composition = True)\n",
    "    print(i)"
   ]
  },
  {
   "cell_type": "code",
   "execution_count": null,
   "metadata": {},
   "outputs": [],
   "source": []
  }
 ],
 "metadata": {
  "kernelspec": {
   "display_name": "Python 3",
   "language": "python",
   "name": "python3"
  },
  "language_info": {
   "codemirror_mode": {
    "name": "ipython",
    "version": 3
   },
   "file_extension": ".py",
   "mimetype": "text/x-python",
   "name": "python",
   "nbconvert_exporter": "python",
   "pygments_lexer": "ipython3",
   "version": "3.7.3"
  }
 },
 "nbformat": 4,
 "nbformat_minor": 2
}
